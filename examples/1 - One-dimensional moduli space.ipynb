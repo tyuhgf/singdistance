{
 "cells": [
  {
   "cell_type": "markdown",
   "id": "cb20c114",
   "metadata": {
    "pycharm": {
     "name": "#%% md\n"
    }
   },
   "source": [
    "# Computing distribution for 1-dimensional moduli space"
   ]
  },
  {
   "cell_type": "code",
   "execution_count": null,
   "id": "f705be88",
   "metadata": {
    "pycharm": {
     "name": "#%%\n"
    }
   },
   "outputs": [],
   "source": [
    "import plotly.graph_objects as go\n",
    "\n",
    "from singdistance import *\n",
    "\n",
    "logger.setLevel(logging.DEBUG)"
   ]
  },
  {
   "cell_type": "code",
   "execution_count": null,
   "id": "612f2ac7",
   "metadata": {
    "pycharm": {
     "name": "#%%\n"
    }
   },
   "outputs": [],
   "source": [
    "phi1 = .45 * np.pi / 3\n",
    "alpha1, alpha2 = .4 * np.pi / 3, .5 * np.pi / 3\n",
    "\n",
    "phi2 = alpha1 + alpha2 - phi1\n",
    "\n",
    "limits = max(0, phi1 - alpha2), min(alpha1, phi1)\n",
    "\n",
    "def area(_beta):\n",
    "    _beta_ = phi1 - _beta\n",
    "    _beta2 = alpha1 - _beta\n",
    "    _beta2_ = phi2 - _beta2\n",
    "    a1 = 1 / (1 / (np.tan(_beta / 2 + 1e-6)) + 1 / np.tan(_beta2 / 2 + 1e-6))\n",
    "    a2 = 1 / (1 / np.tan(_beta_ / 2 + 1e-6) + 1 / np.tan(_beta2_ / 2 + 1e-6))\n",
    "    return a1 + a2\n",
    "\n",
    "if limits[0] < limits[1]:\n",
    "    area0, area1 = area(limits[0]), area(limits[1])\n",
    "else:\n",
    "    area0, area1 = 0, 0\n",
    "\n",
    "m = np.exp(-1j * alpha1 / 2) / np.sin(alpha1 / 2) + \\\n",
    "    np.exp(1j * (alpha2 / 2 - phi1)) / np.sin(alpha2 / 2)\n",
    "m = np.abs(m) / 2\n",
    "c = - 1 / np.tan(alpha1 / 2) / 2 - 1 / np.tan(alpha2 / 2) / 2\n",
    "q = 1 / np.tan(phi1 / 2) + 1 / np.tan(phi2 / 2)\n",
    "\n",
    "def f_an(a):\n",
    "    # https://tinyurl.com/ansolution\n",
    "\n",
    "    w1 = ((1 - c * q)**2 - m**2 * q**2) ** .5\n",
    "    w2 = (a - c) * (1 - c * q) - m**2 * q\n",
    "    w3 = (m**2 - (a - c)**2) ** .5\n",
    "\n",
    "    res = np.arctan(w2/w3/w1) / w1 / q / a**2\n",
    "    res += np.arctan((c - a) / w3) / q / a**2\n",
    "    return res\n",
    "\n",
    "k0 = -f_an(area0) / 2 / area0**-2\n",
    "k1 = -f_an(area1) / 2 / area1**-2\n",
    "\n",
    "def f_res(a):\n",
    "    if limits[0] > limits[1]:\n",
    "        return 0\n",
    "    res = 0\n",
    "    if m + c > a > area0:\n",
    "        res += f_an(a) / 2\n",
    "    if m + c > a > area1:\n",
    "        res += f_an(a) / 2\n",
    "    if q < 0 or a < 1 / q:\n",
    "        if a > area0:\n",
    "            res += k0 * a**-2\n",
    "        if a > area1:\n",
    "            res += k1 * a**-2\n",
    "    return res"
   ]
  },
  {
   "cell_type": "code",
   "execution_count": null,
   "id": "6c56a430",
   "metadata": {
    "pycharm": {
     "name": "#%%\n"
    }
   },
   "outputs": [],
   "source": [
    "m1 = ModuliSpace(phi1, (alpha1, alpha2))\n",
    "m1.ode_steps = 10000\n",
    "m1.calc_area_distribution()\n",
    "\n",
    "x = m1.a_distribution.steps[:-1]\n",
    "y = m1.a_distribution.values\n",
    "\n",
    "fig = go.Figure()\n",
    "fig.add_trace(go.Scatter(x=x, y=y))\n",
    "fig.add_trace(go.Scatter(x=x, y=[f_res(x) for x in x]))\n",
    "fig['layout'].update(margin=dict(l=0, r=0, b=0, t=0))\n",
    "fig.show()"
   ]
  },
  {
   "cell_type": "code",
   "execution_count": null,
   "id": "c15d04cb",
   "metadata": {
    "pycharm": {
     "name": "#%%\n"
    }
   },
   "outputs": [],
   "source": []
  },
  {
   "cell_type": "code",
   "execution_count": null,
   "id": "6375311c",
   "metadata": {
    "pycharm": {
     "name": "#%%\n"
    }
   },
   "outputs": [],
   "source": []
  },
  {
   "cell_type": "code",
   "execution_count": null,
   "id": "8416b237",
   "metadata": {
    "pycharm": {
     "name": "#%%\n"
    }
   },
   "outputs": [],
   "source": []
  }
 ],
 "metadata": {
  "kernelspec": {
   "display_name": "Python 3 (conda spheres)",
   "language": "python",
   "name": "spheres"
  },
  "language_info": {
   "codemirror_mode": {
    "name": "ipython",
    "version": 3
   },
   "file_extension": ".py",
   "mimetype": "text/x-python",
   "name": "python",
   "nbconvert_exporter": "python",
   "pygments_lexer": "ipython3",
   "version": "3.10.4"
  }
 },
 "nbformat": 4,
 "nbformat_minor": 5
}