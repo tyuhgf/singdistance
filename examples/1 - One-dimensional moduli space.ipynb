{
 "cells": [
  {
   "cell_type": "markdown",
   "id": "cb20c114",
   "metadata": {
    "pycharm": {
     "name": "#%% md\n"
    }
   },
   "source": [
    "# Computing distribution for 1-dimensional moduli space"
   ]
  },
  {
   "cell_type": "code",
   "execution_count": null,
   "id": "f705be88",
   "metadata": {
    "pycharm": {
     "name": "#%%\n"
    }
   },
   "outputs": [],
   "source": [
    "import plotly.graph_objects as go\n",
    "\n",
    "from singdistance import *\n",
    "\n",
    "logger.setLevel(logging.DEBUG)"
   ]
  },
  {
   "cell_type": "code",
   "execution_count": null,
   "id": "7fc617da",
   "metadata": {
    "pycharm": {
     "name": "#%%\n"
    }
   },
   "outputs": [],
   "source": [
    "m1 = ModuliSpace(2.7, (3.5, 3))"
   ]
  },
  {
   "cell_type": "code",
   "execution_count": null,
   "id": "d900379e",
   "metadata": {
    "pycharm": {
     "name": "#%%\n"
    }
   },
   "outputs": [],
   "source": [
    "%%time\n",
    "m1.ode_steps = 10000\n",
    "m1.calc_area_distribution()"
   ]
  },
  {
   "cell_type": "code",
   "execution_count": null,
   "id": "db9f87c5",
   "metadata": {
    "pycharm": {
     "name": "#%%\n"
    }
   },
   "outputs": [],
   "source": [
    "dist = m1.a_distribution\n",
    "x = dist.steps[:-1]\n",
    "y = dist.values\n",
    "r = [m1.rhs_function(x) for x in x]\n",
    "\n",
    "fig = go.Figure()\n",
    "fig.add_trace(go.Scatter(x=x, y=y))\n",
    "# fig.add_trace(go.Scatter(x=x, y=r))\n",
    "fig['layout'].update(margin=dict(l=0, r=0, b=0, t=0))\n",
    "fig.show()\n",
    "\n",
    "print(f'Estimated volume: {((x[1:] - x[:-1]) * y[:-1]).sum()}, Actual volume: {m1.thurston_volume}')"
   ]
  },
  {
   "cell_type": "code",
   "execution_count": null,
   "id": "06bb32ba",
   "metadata": {
    "pycharm": {
     "name": "#%%\n"
    }
   },
   "outputs": [],
   "source": []
  },
  {
   "cell_type": "code",
   "execution_count": null,
   "id": "e9d911cd",
   "metadata": {
    "pycharm": {
     "name": "#%%\n"
    }
   },
   "outputs": [],
   "source": [
    "alpha1, alpha2 = [m1.alpha[0]], [m1.alpha[1]]\n",
    "\n",
    "limits = max(0, m1.phi1 - alpha2[0]) + 1e-5, min(alpha1[0], m1.phi1) - 1e-5\n",
    "\n",
    "m = np.exp(-1j * alpha1[0] / 2) / np.sin(alpha1[0] / 2) + \\\n",
    "    np.exp(1j * (alpha2[0] / 2 - m1.phi1)) / np.sin(alpha2[0] / 2)\n",
    "m = np.abs(m) / 2\n",
    "c = - 1 / np.tan(alpha1[0] / 2) / 2 - 1 / np.tan(alpha2[0] / 2) / 2"
   ]
  },
  {
   "cell_type": "code",
   "execution_count": null,
   "id": "b89013dd",
   "metadata": {
    "pycharm": {
     "name": "#%%\n"
    }
   },
   "outputs": [],
   "source": []
  },
  {
   "cell_type": "code",
   "execution_count": null,
   "id": "061a5626",
   "metadata": {
    "pycharm": {
     "name": "#%%\n"
    }
   },
   "outputs": [],
   "source": [
    "def f_an(a):\n",
    "    # https://tinyurl.com/ansolution\n",
    "    q = m1.q\n",
    "\n",
    "    w1 = ((1 - c * q)**2 - m**2 * q**2) ** .5\n",
    "    w2 = (a - c) * (1 - c * q) - m**2 * q\n",
    "    w3 = (m**2 - (a - c)**2) ** .5\n",
    "\n",
    "    res = np.arctan(w2/w3/w1) / w1 / q / a**2\n",
    "    res += np.arctan((c - a) / w3) / q / a**2\n",
    "    return res"
   ]
  },
  {
   "cell_type": "code",
   "execution_count": null,
   "id": "bf89abd1",
   "metadata": {
    "pycharm": {
     "name": "#%%\n"
    }
   },
   "outputs": [],
   "source": [
    "x = dist.steps[:-1]\n",
    "y = dist.values\n",
    "\n",
    "k1 = y[3000] / x[3000] ** -2  # choose point in the 4th part\n",
    "\n",
    "y_an = np.array([f_an(x) + k1 * x ** -2 for x in x])\n",
    "y_an = np.minimum(np.maximum(y_an, -5), 5)\n",
    "\n",
    "k2 = (y[300] - f_an(x[300]) / 2) / x[300] ** -2  # choose point in second part\n",
    "\n",
    "y_an2 = np.array([f_an(x) / 2 + k2 * x ** -2 for x in x])\n",
    "y_an2 = np.minimum(np.maximum(y_an2, -5), 5)\n",
    "\n",
    "y_an3 = k1 * x ** -2\n",
    "y_an3 = np.minimum(np.maximum(y_an3, -5), 5)\n",
    "\n",
    "y_an4 = 0 * x\n",
    "\n",
    "fig = go.Figure()\n",
    "fig.add_trace(go.Scatter(x=x, y=y_an))\n",
    "fig.add_trace(go.Scatter(x=x, y=y_an2))\n",
    "fig.add_trace(go.Scatter(x=x, y=y_an3))\n",
    "fig.add_trace(go.Scatter(x=x, y=y_an4))\n",
    "fig.add_trace(go.Scatter(x=x, y=y))\n",
    "fig['layout'].update(margin=dict(l=0, r=0, b=0, t=20))\n",
    "fig.show()"
   ]
  },
  {
   "cell_type": "code",
   "execution_count": null,
   "id": "8234e27e",
   "metadata": {
    "pycharm": {
     "name": "#%%\n"
    }
   },
   "outputs": [],
   "source": []
  }
 ],
 "metadata": {
  "kernelspec": {
   "display_name": "Python 3 (conda spheres)",
   "language": "python",
   "name": "spheres"
  },
  "language_info": {
   "codemirror_mode": {
    "name": "ipython",
    "version": 3
   },
   "file_extension": ".py",
   "mimetype": "text/x-python",
   "name": "python",
   "nbconvert_exporter": "python",
   "pygments_lexer": "ipython3",
   "version": "3.10.4"
  }
 },
 "nbformat": 4,
 "nbformat_minor": 5
}