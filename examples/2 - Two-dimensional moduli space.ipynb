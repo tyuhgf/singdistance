{
 "cells": [
  {
   "cell_type": "markdown",
   "id": "3ef077fb",
   "metadata": {
    "pycharm": {
     "name": "#%% md\n"
    }
   },
   "source": [
    "# Computing distribution for 2-dimensional moduli space\n",
    "Warning: may take a lot of time\n",
    "Warning: low precision of the result"
   ]
  },
  {
   "cell_type": "code",
   "execution_count": null,
   "id": "df2b7ee4",
   "metadata": {
    "pycharm": {
     "name": "#%%\n"
    }
   },
   "outputs": [],
   "source": [
    "import plotly.graph_objects as go\n",
    "\n",
    "from singdistance import *\n",
    "\n",
    "logger.setLevel(logging.DEBUG)"
   ]
  },
  {
   "cell_type": "code",
   "execution_count": null,
   "id": "874017f2",
   "metadata": {
    "pycharm": {
     "name": "#%%\n"
    }
   },
   "outputs": [],
   "source": [
    "m1 = ModuliSpace(0.3, [np.pi / 180 * 10, np.pi / 180 * 15, np.pi / 180 * 18], ode_span=(0, .1))"
   ]
  },
  {
   "cell_type": "code",
   "execution_count": null,
   "id": "e7dc4517",
   "metadata": {
    "pycharm": {
     "name": "#%%\n"
    }
   },
   "outputs": [],
   "source": [
    "m1.set_splittings()"
   ]
  },
  {
   "cell_type": "code",
   "execution_count": null,
   "id": "23b1f10c",
   "metadata": {
    "pycharm": {
     "name": "#%%\n"
    }
   },
   "outputs": [],
   "source": [
    "%%time\n",
    "for si in m1.rhs_splittings.values():\n",
    "    si.a_limits = 0, .1\n",
    "    si.a_steps = 5000\n",
    "    si.calc_rhs(beta_steps=lambda span: np.linspace(*span, 5000))"
   ]
  },
  {
   "cell_type": "code",
   "execution_count": null,
   "id": "7316ed0e",
   "metadata": {
    "pycharm": {
     "name": "#%%\n"
    }
   },
   "outputs": [],
   "source": [
    "m1.calc_area_distribution()"
   ]
  },
  {
   "cell_type": "code",
   "execution_count": null,
   "id": "05b58015",
   "metadata": {
    "pycharm": {
     "name": "#%%\n"
    }
   },
   "outputs": [],
   "source": [
    "dist = m1.a_distribution\n",
    "x = dist.steps[:-1]\n",
    "y = dist.values\n",
    "r = [m1.rhs_function(x) for x in x]\n",
    "\n",
    "fig = go.Figure()\n",
    "fig.add_trace(go.Scatter(x=x, y=y))\n",
    "fig.add_trace(go.Scatter(x=x, y=r))\n",
    "fig['layout'].update(margin=dict(l=0, r=0, b=0, t=0))\n",
    "fig.show()\n",
    "\n",
    "print(f'Estimated volume: {((x[1:] - x[:-1]) * y[:-1]).sum()}, Actual volume: {m1.thurston_volume}')"
   ]
  },
  {
   "cell_type": "code",
   "execution_count": null,
   "id": "ed1f7a33",
   "metadata": {
    "pycharm": {
     "name": "#%%\n"
    }
   },
   "outputs": [],
   "source": []
  },
  {
   "cell_type": "code",
   "execution_count": null,
   "id": "d5c824fe",
   "metadata": {
    "pycharm": {
     "name": "#%%\n"
    }
   },
   "outputs": [],
   "source": []
  },
  {
   "cell_type": "code",
   "execution_count": null,
   "id": "121f63bb",
   "metadata": {
    "pycharm": {
     "name": "#%%\n"
    }
   },
   "outputs": [],
   "source": []
  }
 ],
 "metadata": {
  "kernelspec": {
   "display_name": "Python 3 (conda spheres)",
   "language": "python",
   "name": "spheres"
  },
  "language_info": {
   "codemirror_mode": {
    "name": "ipython",
    "version": 3
   },
   "file_extension": ".py",
   "mimetype": "text/x-python",
   "name": "python",
   "nbconvert_exporter": "python",
   "pygments_lexer": "ipython3",
   "version": "3.10.4"
  }
 },
 "nbformat": 4,
 "nbformat_minor": 5
}