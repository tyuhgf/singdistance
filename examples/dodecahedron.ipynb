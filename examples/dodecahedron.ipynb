{
 "cells": [
  {
   "cell_type": "code",
   "execution_count": null,
   "id": "3800341d-2e07-4038-9bb7-91259a372f29",
   "metadata": {
    "pycharm": {
     "name": "#%%\n"
    }
   },
   "outputs": [],
   "source": [
    "import numpy as np\n",
    "\n",
    "from src.distrs import Distribution2D, calc_distribution_function_1d, fft_convolve, logger, thurston_volume"
   ]
  },
  {
   "cell_type": "code",
   "execution_count": null,
   "outputs": [],
   "source": [
    "import math\n",
    "import matplotlib.pyplot as plt\n",
    "import plotly.graph_objects as go"
   ],
   "metadata": {
    "collapsed": false,
    "pycharm": {
     "name": "#%%\n"
    }
   }
  },
  {
   "cell_type": "code",
   "execution_count": null,
   "outputs": [],
   "source": [
    "alpha = [np.pi / 180 * 60] * 11\n",
    "dphi = 2e-3\n",
    "darea = 2e-3\n",
    "\n",
    "logger.info('setting distribution sizes')\n",
    "\n",
    "distributions = dict()\n",
    "for i in range(1, len(alpha) + 1):\n",
    "    area_max = np.tan(alpha[0] * i / 4) / 2 + 2 * darea\n",
    "    if area_max <= 0 or area_max > 4000 * darea:\n",
    "        area_max = 4000 * darea\n",
    "    distributions[i] = Distribution2D(alpha[:i],\n",
    "                                      (0, alpha[0] * i), dphi,\n",
    "                                      (0, area_max), darea,\n",
    "                                      dtype=np.float64)\n",
    "for i in distributions:\n",
    "    print(f'{i}, {distributions[i].distr.shape}')"
   ],
   "metadata": {
    "collapsed": false,
    "pycharm": {
     "name": "#%%\n"
    }
   }
  },
  {
   "cell_type": "code",
   "execution_count": null,
   "outputs": [],
   "source": [
    "distr = distributions[1]\n",
    "logger.info(f'calculating distribution for {distr.alpha}')\n",
    "triangle_areas = 1 / (1 / np.tan(distr.phi1 / 2) + 1 / np.tan(distr.phi2 / 2))\n",
    "\n",
    "indexes = (triangle_areas // distr.darea).astype(int)\n",
    "indexes = np.minimum(indexes, len(distr.area) - 1)\n",
    "indexes = np.maximum(indexes, 0)\n",
    "\n",
    "distr.distr = np.zeros_like(distr.Area)\n",
    "for i in range(len(distr.distr)):\n",
    "    index_max = indexes[max(i - 1, 0):min(i + 2, len(distr.distr) - 1)].max()\n",
    "    index_min = indexes[max(i - 1, 0):min(i + 2, len(distr.distr) - 1)].min()\n",
    "    if True or index_min < 50:\n",
    "        distr.distr[i, indexes[i]] += 1 / distr.darea\n",
    "    else:\n",
    "        distr.distr[i, index_min:index_max + 1] = 1 / (index_max - index_min + 1) / distr.darea"
   ],
   "metadata": {
    "collapsed": false,
    "pycharm": {
     "name": "#%%\n"
    }
   }
  },
  {
   "cell_type": "code",
   "execution_count": null,
   "outputs": [],
   "source": [
    "distr = distributions[2]\n",
    "logger.info(f'calculating distribution for {distr.alpha}')\n",
    "for i, phi1 in enumerate(distr.phi1):\n",
    "    dist_function = calc_distribution_function_1d(phi1, distr.alpha)\n",
    "    for j, area in enumerate(distr.area):\n",
    "        distr.distr[i, j] = dist_function(area)\n",
    "distr.distr = np.maximum(distr.distr, 0)"
   ],
   "metadata": {
    "collapsed": false,
    "pycharm": {
     "name": "#%%\n"
    }
   }
  },
  {
   "cell_type": "code",
   "execution_count": null,
   "outputs": [],
   "source": [
    "for i in range(3, 11):\n",
    "    distr = distributions[i]\n",
    "    logger.info(f'calculating rhs for {distr.alpha}')\n",
    "    distr.rhs = np.zeros_like(distr.Area)\n",
    "\n",
    "    for j in range(1, i):\n",
    "        distr1 = distributions[j]\n",
    "        distr2 = distributions[i-j]\n",
    "\n",
    "        logger.info(f'calculating rhs_summand for {distr.alpha}, combination {j}')\n",
    "\n",
    "        # arg1 = distr1.distr_ * distr1.Q * (1 - distr1.Area * distr1.Q) ** (len(distr1.alpha) - 2)\n",
    "        # arg2_ = distr2.distr_ * (1 - distr2.Area * distr2.Q) ** (len(distr2.alpha) - 2)\n",
    "\n",
    "        arg1 = distr1.distr * distr1.Area ** len(distr1.alpha) * distr1.Q\n",
    "        arg2_ = distr2.distr * distr2.Area ** len(distr2.alpha)\n",
    "\n",
    "        arg1 = np.nan_to_num(arg1, nan=0, posinf=0, neginf=0)\n",
    "        arg2_ = np.nan_to_num(arg2_, nan=0, posinf=0, neginf=0)\n",
    "\n",
    "        arg1[:, :10] = 0\n",
    "        arg2_[:, :10] = 0\n",
    "\n",
    "        rhs = np.zeros_like(distr.Area)\n",
    "        qq = fft_convolve(arg2_, arg1)\n",
    "\n",
    "        a0 = min(arg1.shape[0] + arg2_.shape[0], rhs.shape[0])\n",
    "        a1 = min(arg1.shape[1] + arg2_.shape[1], rhs.shape[1])\n",
    "\n",
    "        rhs[:a0, :a1] = qq[:a0, :a1]\n",
    "        rhs *= distr2.dphi1 * distr2.darea\n",
    "\n",
    "        rhs *= math.comb(i, j)\n",
    "\n",
    "        distr.rhs += rhs\n",
    "\n",
    "    s = distr.rhs * (1 - distr.Area * distr.Q) ** (1 - len(distr.alpha)) / 2\n",
    "\n",
    "    s[:, :100] = 0  # todo\n",
    "\n",
    "    cs = np.cumsum(s, axis=-1) * distr.darea\n",
    "    cs[(distr.Q > 0) * (distr.Area >= 1/distr.Q)] = 0\n",
    "    distr.distr_ = cs * (1 - distr.Area * distr.Q) ** (len(distr.alpha) - 2)\n",
    "    distr.distr = distr.distr_ * distr.Area ** -len(distr.alpha)\n",
    "    distr.distr = np.nan_to_num(distr.distr, nan=0, posinf=0, neginf=0)"
   ],
   "metadata": {
    "collapsed": false,
    "pycharm": {
     "name": "#%%\n"
    }
   }
  },
  {
   "cell_type": "code",
   "execution_count": null,
   "outputs": [],
   "source": [
    "distr = distributions[8]\n",
    "_, ax = plt.subplots(1, 2, figsize = (10, 7))\n",
    "im = ax[0].imshow(np.log(np.maximum(distr.distr, 1e-10)), cmap='hot')\n",
    "plt.colorbar(im, orientation='horizontal', ax=ax[0])\n",
    "im = ax[1].imshow(np.log(np.maximum(distr.rhs[:, :], 1e-15)), cmap='hot')\n",
    "plt.colorbar(im, orientation='horizontal', ax=ax[1])\n",
    "plt.show()"
   ],
   "metadata": {
    "collapsed": false,
    "pycharm": {
     "name": "#%%\n"
    }
   }
  },
  {
   "cell_type": "code",
   "execution_count": null,
   "id": "42a570f6-0cb7-414b-bc79-d3105fef5aa4",
   "metadata": {
    "pycharm": {
     "name": "#%%\n"
    }
   },
   "outputs": [],
   "source": [
    "distr = distributions[10]\n",
    "\n",
    "fig = go.Figure()\n",
    "fig.add_trace(go.Scatter(x=distr.area[:], y=(distr.distr)[1700, :]))\n",
    "fig.add_trace(go.Scatter(x=distr.area[:], y=(distr.distr)[2100, :]))\n",
    "fig.add_trace(go.Scatter(x=distr.area[:], y=(distr.distr)[2400, :]))\n",
    "fig.add_trace(go.Scatter(x=distr.area[:], y=(distr.distr)[len(distr.phi1) // 2, :]))\n",
    "fig['layout'].update(margin=dict(l=0, r=0, b=0, t=10))\n",
    "fig.show()"
   ]
  },
  {
   "cell_type": "code",
   "execution_count": null,
   "outputs": [],
   "source": [
    "distr = distributions[7]\n",
    "\n",
    "fig = go.Figure()\n",
    "fig.add_trace(go.Scatter(x=distr.phi1[::], y=thurston_volume([2*np.pi - distr.phi1.astype(np.float64), 2*np.pi - distr.phi2.astype(np.float64), *distr.alpha])))\n",
    "fig.add_trace(go.Scatter(x=distr.phi1[::10], y=distr.distr[::10, 100:].sum(axis=1) * distr.darea))\n",
    "fig['layout'].update(margin=dict(l=0, r=0, b=0, t=10))\n",
    "fig.show()"
   ],
   "metadata": {
    "collapsed": false,
    "pycharm": {
     "name": "#%%\n"
    }
   }
  },
  {
   "cell_type": "code",
   "execution_count": null,
   "outputs": [],
   "source": [
    "distr = distributions[4]\n",
    "\n",
    "fig = go.Figure()\n",
    "fig.add_trace(go.Scatter(x=distr.area[:], y=(distr.distr)[1500, :]))\n",
    "fig.add_trace(go.Scatter(x=distr.area[:], y=(distr.distr)[len(distr.phi1) // 2, :]))\n",
    "fig['layout'].update(margin=dict(l=0, r=0, b=0, t=10))\n",
    "fig.show()"
   ],
   "metadata": {
    "collapsed": false,
    "pycharm": {
     "name": "#%%\n"
    }
   }
  },
  {
   "cell_type": "code",
   "execution_count": null,
   "outputs": [],
   "source": [],
   "metadata": {
    "collapsed": false,
    "pycharm": {
     "name": "#%%\n"
    }
   }
  }
 ],
 "metadata": {
  "kernelspec": {
   "display_name": "Python3 (saddle)",
   "language": "python",
   "name": "saddle"
  },
  "language_info": {
   "codemirror_mode": {
    "name": "ipython",
    "version": 3
   },
   "file_extension": ".py",
   "mimetype": "text/x-python",
   "name": "python",
   "nbconvert_exporter": "python",
   "pygments_lexer": "ipython3",
   "version": "3.9.12"
  }
 },
 "nbformat": 4,
 "nbformat_minor": 5
}